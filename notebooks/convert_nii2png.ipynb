{
 "cells": [
  {
   "cell_type": "code",
   "execution_count": 11,
   "metadata": {},
   "outputs": [],
   "source": [
    "import nibabel as nib\n",
    "#import os\n",
    "from pathlib import Path"
   ]
  },
  {
   "cell_type": "code",
   "execution_count": 15,
   "metadata": {},
   "outputs": [],
   "source": [
    "Path.ls = lambda x: [o.name for o in x.iterdir()]"
   ]
  },
  {
   "cell_type": "code",
   "execution_count": 12,
   "metadata": {},
   "outputs": [],
   "source": [
    "source_dir = '/mnt/c/Temp/mra_brains/brains/'\n",
    "dest_dir = '/mnt/c/Temp/mra_brains/output/'\n"
   ]
  },
  {
   "cell_type": "code",
   "execution_count": 18,
   "metadata": {},
   "outputs": [],
   "source": [
    "mra_images = Path('/mnt/c/Temp/mra_brains/brains/')"
   ]
  },
  {
   "cell_type": "code",
   "execution_count": null,
   "metadata": {},
   "outputs": [],
   "source": [
    "def write_image(source_dir, dest_dir, image_name):\n",
    "    image_array = nib.load(source_dir.joinpath(image_name))\n",
    "    n_i, n_j, n_k = image_array.shape\n",
    "    total_slices = image_array.shape[2]\n",
    "    # set destination folder\n",
    "    target_dir = Path.mkdir(dest_dir) if not Path(dest_dir) else dest_dir\n",
    "    imageio.imwrite(image_name, data)"
   ]
  },
  {
   "cell_type": "code",
   "execution_count": 24,
   "metadata": {},
   "outputs": [],
   "source": [
    "mra_tensors = [(nib.load(mra_images.joinpath(o))) for o in mra_images.ls()] "
   ]
  },
  {
   "cell_type": "code",
   "execution_count": 29,
   "metadata": {},
   "outputs": [
    {
     "data": {
      "text/plain": "<nibabel.nifti1.Nifti1Image at 0x7fb5f0fb0bd0>"
     },
     "execution_count": 29,
     "metadata": {},
     "output_type": "execute_result"
    }
   ],
   "source": [
    "mra_tensors[0]"
   ]
  },
  {
   "cell_type": "code",
   "execution_count": 10,
   "metadata": {},
   "outputs": [
    {
     "data": {
      "text/plain": "[PosixPath('/mnt/c/Temp/mra_brains/brains/BG0001.nii'),\n PosixPath('/mnt/c/Temp/mra_brains/brains/BG0001_z028.png'),\n PosixPath('/mnt/c/Temp/mra_brains/brains/BG0002.nii'),\n PosixPath('/mnt/c/Temp/mra_brains/brains/BG0002_z010.png'),\n PosixPath('/mnt/c/Temp/mra_brains/brains/BG0003.nii'),\n PosixPath('/mnt/c/Temp/mra_brains/brains/BG0004.nii'),\n PosixPath('/mnt/c/Temp/mra_brains/brains/BG0005.nii'),\n PosixPath('/mnt/c/Temp/mra_brains/brains/BG0006.nii'),\n PosixPath('/mnt/c/Temp/mra_brains/brains/BG0007.nii'),\n PosixPath('/mnt/c/Temp/mra_brains/brains/BG0008.nii'),\n PosixPath('/mnt/c/Temp/mra_brains/brains/BG0009.nii'),\n PosixPath('/mnt/c/Temp/mra_brains/brains/BG0010.nii'),\n PosixPath('/mnt/c/Temp/mra_brains/brains/BG0011.nii'),\n PosixPath('/mnt/c/Temp/mra_brains/brains/BG0012.nii'),\n PosixPath('/mnt/c/Temp/mra_brains/brains/BG0014.nii'),\n PosixPath('/mnt/c/Temp/mra_brains/brains/BG0014_z008.png'),\n PosixPath('/mnt/c/Temp/mra_brains/brains/BG0015.nii'),\n PosixPath('/mnt/c/Temp/mra_brains/brains/BG0017.nii'),\n PosixPath('/mnt/c/Temp/mra_brains/brains/BG0018.nii'),\n PosixPath('/mnt/c/Temp/mra_brains/brains/BG0019.nii'),\n PosixPath('/mnt/c/Temp/mra_brains/brains/BG0020.nii'),\n PosixPath('/mnt/c/Temp/mra_brains/brains/BG0021.nii'),\n PosixPath('/mnt/c/Temp/mra_brains/brains/BG0022.nii'),\n PosixPath('/mnt/c/Temp/mra_brains/brains/BH0003.nii'),\n PosixPath('/mnt/c/Temp/mra_brains/brains/BH0004.nii'),\n PosixPath('/mnt/c/Temp/mra_brains/brains/BH0005.nii'),\n PosixPath('/mnt/c/Temp/mra_brains/brains/BH0006.nii'),\n PosixPath('/mnt/c/Temp/mra_brains/brains/BH0008.nii'),\n PosixPath('/mnt/c/Temp/mra_brains/brains/BH0009.nii'),\n PosixPath('/mnt/c/Temp/mra_brains/brains/BH0010.nii'),\n PosixPath('/mnt/c/Temp/mra_brains/brains/BH0011.nii'),\n PosixPath('/mnt/c/Temp/mra_brains/brains/BH0012.nii'),\n PosixPath('/mnt/c/Temp/mra_brains/brains/BH0013.nii'),\n PosixPath('/mnt/c/Temp/mra_brains/brains/BH0014.nii'),\n PosixPath('/mnt/c/Temp/mra_brains/brains/BH0015.nii'),\n PosixPath('/mnt/c/Temp/mra_brains/brains/BH0016.nii'),\n PosixPath('/mnt/c/Temp/mra_brains/brains/BH0017.nii'),\n PosixPath('/mnt/c/Temp/mra_brains/brains/BH0018.nii'),\n PosixPath('/mnt/c/Temp/mra_brains/brains/BH0019.nii'),\n PosixPath('/mnt/c/Temp/mra_brains/brains/BH0020.nii'),\n PosixPath('/mnt/c/Temp/mra_brains/brains/BH0021.nii'),\n PosixPath('/mnt/c/Temp/mra_brains/brains/BH0022.nii'),\n PosixPath('/mnt/c/Temp/mra_brains/brains/BH0023.nii'),\n PosixPath('/mnt/c/Temp/mra_brains/brains/BH0024.nii'),\n PosixPath('/mnt/c/Temp/mra_brains/brains/BH0025.nii'),\n PosixPath('/mnt/c/Temp/mra_brains/brains/BH0026.nii'),\n PosixPath('/mnt/c/Temp/mra_brains/brains/BH0027.nii'),\n PosixPath('/mnt/c/Temp/mra_brains/brains/BH0029.nii'),\n PosixPath('/mnt/c/Temp/mra_brains/brains/BH0030.nii'),\n PosixPath('/mnt/c/Temp/mra_brains/brains/BH0031.nii'),\n PosixPath('/mnt/c/Temp/mra_brains/brains/BH0032.nii'),\n PosixPath('/mnt/c/Temp/mra_brains/brains/BH0032_z034.png'),\n PosixPath('/mnt/c/Temp/mra_brains/brains/BH0033.nii'),\n PosixPath('/mnt/c/Temp/mra_brains/brains/BH0034.nii'),\n PosixPath('/mnt/c/Temp/mra_brains/brains/BH0035.nii'),\n PosixPath('/mnt/c/Temp/mra_brains/brains/BH0036.nii'),\n PosixPath('/mnt/c/Temp/mra_brains/brains/BH0037.nii'),\n PosixPath('/mnt/c/Temp/mra_brains/brains/BH0038.nii'),\n PosixPath('/mnt/c/Temp/mra_brains/brains/BH0038_z005.png'),\n PosixPath('/mnt/c/Temp/mra_brains/brains/BH0039.nii'),\n PosixPath('/mnt/c/Temp/mra_brains/brains/BH0040.nii')]"
     },
     "execution_count": 10,
     "metadata": {},
     "output_type": "execute_result"
    }
   ],
   "source": [
    "[x for x in source_dir.iterdir() if x.is_file()]\n"
   ]
  },
  {
   "cell_type": "code",
   "execution_count": null,
   "metadata": {},
   "outputs": [],
   "source": [
    "for currentFile in source_dir.iterdir():\n",
    "    print(currentFile)"
   ]
  }
 ],
 "metadata": {
  "kernelspec": {
   "display_name": "Python 3.7.6 64-bit ('base': conda)",
   "name": "python376jvsc74a57bd0284c1fabbac29e75f9eebd56e80aa94a5a8ce5b1bd8b8b4738da34a788a84f4d"
  },
  "language_info": {
   "codemirror_mode": {
    "name": "ipython",
    "version": 3
   },
   "file_extension": ".py",
   "mimetype": "text/x-python",
   "name": "python",
   "nbconvert_exporter": "python",
   "pygments_lexer": "ipython3",
   "version": "3.7.6"
  },
  "orig_nbformat": 2
 },
 "nbformat": 4,
 "nbformat_minor": 2
}